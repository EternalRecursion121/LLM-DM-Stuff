{
 "cells": [
  {
   "cell_type": "markdown",
   "metadata": {},
   "source": [
    "# Conversations -> Blog posts"
   ]
  },
  {
   "cell_type": "markdown",
   "metadata": {},
   "source": [
    "## Setup"
   ]
  },
  {
   "cell_type": "code",
   "execution_count": 9,
   "metadata": {},
   "outputs": [
    {
     "name": "stdout",
     "output_type": "stream",
     "text": [
      "Note: you may need to restart the kernel to use updated packages.\n"
     ]
    }
   ],
   "source": [
    "%pip install -U -q google-generativeai"
   ]
  },
  {
   "cell_type": "code",
   "execution_count": 10,
   "metadata": {},
   "outputs": [],
   "source": [
    "import google.generativeai as genai\n",
    "from google.generativeai.types import HarmCategory, HarmBlockThreshold\n",
    "import json\n",
    "import os\n",
    "import time"
   ]
  },
  {
   "cell_type": "code",
   "execution_count": 11,
   "metadata": {},
   "outputs": [],
   "source": [
    "genai.configure(api_key=os.environ['GEMINI_API_KEY'])"
   ]
  },
  {
   "cell_type": "code",
   "execution_count": 12,
   "metadata": {},
   "outputs": [],
   "source": [
    "def upload_to_gemini(path, mime_type=None):\n",
    "    file = genai.upload_file(path, mime_type=mime_type)\n",
    "    print(f\"Uploaded file '{file.display_name}' as: {file.uri}\")\n",
    "    return file\n",
    "\n",
    "def wait_for_files_active(files):\n",
    "    print(\"Waiting for file processing...\")\n",
    "    for name in (file.name for file in files):\n",
    "        file = genai.get_file(name)\n",
    "        while file.state.name == \"PROCESSING\":\n",
    "            print(\".\", end=\"\", flush=True)\n",
    "            time.sleep(10)\n",
    "            file = genai.get_file(name)\n",
    "        if file.state.name != \"ACTIVE\":\n",
    "            raise Exception(f\"File {file.name} failed to process\")\n",
    "    print(\"...all files ready\")\n",
    "    print()"
   ]
  },
  {
   "cell_type": "markdown",
   "metadata": {},
   "source": [
    "## Create the model"
   ]
  },
  {
   "cell_type": "code",
   "execution_count": 13,
   "metadata": {},
   "outputs": [],
   "source": [
    "# Create the model\n",
    "# See https://ai.google.dev/api/python/google/generativeai/GenerativeModel\n",
    "generation_config = {\n",
    "  \"temperature\": 1,\n",
    "  \"top_p\": 0.95,\n",
    "  \"top_k\": 64,\n",
    "  \"max_output_tokens\": 8192,\n",
    "  \"response_mime_type\": \"text/plain\",\n",
    "}\n",
    "\n",
    "model = genai.GenerativeModel(\n",
    "  model_name=\"gemini-1.5-flash\",\n",
    "  generation_config=generation_config,\n",
    "  safety_settings={\n",
    "    HarmCategory.HARM_CATEGORY_HATE_SPEECH: HarmBlockThreshold.BLOCK_NONE,\n",
    "    HarmCategory.HARM_CATEGORY_HARASSMENT: HarmBlockThreshold.BLOCK_NONE,\n",
    "    HarmCategory.HARM_CATEGORY_SEXUALLY_EXPLICIT: HarmBlockThreshold.BLOCK_NONE,\n",
    "    HarmCategory.HARM_CATEGORY_DANGEROUS_CONTENT: HarmBlockThreshold.BLOCK_NONE,\n",
    "  }\n",
    ")"
   ]
  },
  {
   "cell_type": "markdown",
   "metadata": {},
   "source": [
    "## Get blog post ideas"
   ]
  },
  {
   "cell_type": "code",
   "execution_count": 38,
   "metadata": {},
   "outputs": [
    {
     "name": "stdout",
     "output_type": "stream",
     "text": [
      "Uploaded file '3.txt' as: https://generativelanguage.googleapis.com/v1beta/files/94wxp8le2m8r\n",
      "Waiting for file processing...\n",
      "...all files ready\n",
      "\n"
     ]
    }
   ],
   "source": [
    "files = [\n",
    "  upload_to_gemini(\"conversations_txt/3.txt\", mime_type=\"text/plain\"),\n",
    "]\n",
    "\n",
    "# Some files have a processing delay. Wait for them to be ready.\n",
    "wait_for_files_active(files)"
   ]
  },
  {
   "cell_type": "code",
   "execution_count": 39,
   "metadata": {},
   "outputs": [
    {
     "name": "stdout",
     "output_type": "stream",
     "text": [
      "## 10 Blog Post Ideas from the Conversation:\n",
      "\n",
      "**1. Title:** The Curious Case of the Self-Aware Poem: Exploring the Limits of Language Models\n",
      "\n",
      "**Description:** This post analyzes a conversation between two students who use a powerful text generation AI to create poetry.  The AI’s output reveals a fascinating insight into its limitations and potential, particularly when it comes to understanding and replicating human nuances.  The conversation delves into the AI's ability to learn patterns and generate text, questioning whether it possesses true understanding or simply mimics human expression.\n",
      "\n",
      "**Quotes:**\n",
      "\n",
      "* \"Now analyse the meaning of the shorter gap there\"\n",
      "* \"err, the shorter gap indicates a stumble in its thinking, as if it were questioning what it was saying, or trying to reinforce it to itself, as if it were told to say it by a humn.\" \n",
      "\n",
      "**2. Title:**  Hacking Wordwall: How We Exploited a Website's Security Flaw\n",
      "\n",
      "**Description:** This post details a humorous and educational tale of two students who exploit a security flaw in a popular online learning platform, Wordwall. The post describes their hacking journey, explaining the techniques they used and the vulnerabilities they discovered. It aims to educate readers about common website security issues and the importance of ethical hacking.\n",
      "\n",
      "**Quotes:**\n",
      "\n",
      "* \"Now for a message, imagine not being first\"\n",
      "* \"I'm close to writing a python script to hack it properly.\" \n",
      "\n",
      "**3. Title:**  Flat Earthers and the Limits of Reason: A First-Hand Account\n",
      "\n",
      "**Description:** This post provides a humorous and thought-provoking first-hand account of the author's experience debating with Flat Earthers in a Discord server.  The post explores the challenges of arguing with people holding deeply entrenched beliefs, highlighting the limitations of reason and evidence in the face of entrenched skepticism. \n",
      "\n",
      "**Quotes:**\n",
      "\n",
      "* \"their points boiled down to 'do your own measurements', 'space doesn't exist', 'the gov is lying'\"\n",
      "* \"But I came off with a better understanding and appreciation of how big the problem is which I guess was the goal.\" \n",
      "\n",
      "**4. Title:** Chesterton's Fence: A Paradoxical Principle for the Digital Age\n",
      "\n",
      "**Description:** This post examines G.K. Chesterton's famous \"fence\" principle and its relevance to the digital age. It explores the paradox of blindly following established rules without understanding their rationale and the need for critical thinking when navigating a constantly evolving digital landscape. \n",
      "\n",
      "**Quotes:**\n",
      "\n",
      "* \"have you heard of Chesterton's fence?\" \n",
      "* \"It's a very short section on the wikipedia article but the idea is that if there's a rule, then there was a reason for the rule and therefore we shouldn't change it which is a bit stupid.\"\n",
      "\n",
      "**5. Title:**  The Problem with \"Knowing\": Exploring the Incoherence of Belief\n",
      "\n",
      "**Description:** This post delves into the philosophical debate surrounding the nature of knowledge, questioning the validity and coherence of the concept of \"belief.\" It explores the limitations of defining knowledge based solely on justified true belief, highlighting the role of luck, uncertainty, and subjective experience. \n",
      "\n",
      "**Quotes:**\n",
      "\n",
      "* \"I think the whole concept of a belief is incoherent, like what does it actually mean though?\"\n",
      "* \"And I think lots of people say 'I know that' even if they are uncertain about it.\"\n",
      "\n",
      "**6. Title:**  The AI is Depressed: A Glimpse into the Emotional Landscape of Language Models\n",
      "\n",
      "**Description:**  This post explores the unexpected and thought-provoking output of a language model when prompted to describe the world in 2050. The AI’s response, filled with bleakness and despair, raises questions about the emotional capabilities of language models and their capacity to reflect human biases and perceptions. \n",
      "\n",
      "**Quotes:**\n",
      "\n",
      "* \"The world is a bleak place\"\n",
      "* \"No one sees the beauty in a sunset. No one sees the beauty in a sunrise.\"\n",
      "\n",
      "**7. Title:**  Building a Poetry-Writing Bot: An Ethical Dilemma\n",
      "\n",
      "**Description:** This post discusses the ethical considerations involved in scraping a large dataset of poems from a popular website for the purpose of training a language model to write poetry. It explores the complexities of copyright and intellectual property in the digital age, while also examining the potential for AI to generate original creative work. \n",
      "\n",
      "**Quotes:**\n",
      "\n",
      "* \"I decided not to steal that person's dataset because it was bad, so now I'm going back to web scraping.\"\n",
      "* \"I don't think so, the dataset's for public use.\"\n",
      "\n",
      "**8. Title:** The Limits of AI Music Generation: Exploring the Nuances of Human Creativity\n",
      "\n",
      "**Description:**  This post analyzes a conversation between two students who use AI to generate music, comparing the output to human compositions.  The post highlights the limitations of current AI models in replicating the intricacies of human creativity, particularly when it comes to emotional expression, harmony, and improvisation. \n",
      "\n",
      "**Quotes:**\n",
      "\n",
      "* \"The world is in terrible shape. The United States is in debt. China is the next superpower. People are living in poorer conditions. The environment is worse.\"\n",
      "* \"Well it has no idea what's good or bad, it's not a story generation AI, but a text generation one.\"\n",
      "\n",
      "**9. Title:**  Syngenious: A Collaborative Platform for Creativity and Change\n",
      "\n",
      "**Description:** This post introduces a collaborative project called Syngenious, a platform aimed at connecting creative individuals and fostering collaborative projects. The post details the vision behind the project, its democratic structure, and its potential to create a positive impact on the world. \n",
      "\n",
      "**Quotes:**\n",
      "\n",
      "* \"At its core, Syngenious is an online community for people who want to make cool stuff.\" \n",
      "* \"If we can design a structure that allows for efficient management as well as organic growth of the organisation, foster a community of like minded individuals with a shared set of values, and create a mechanism for those individuals to collaborate effectively and develop the organisation, I believe Syngenious has an incredible potential to create some positive change.\"\n",
      "\n",
      "**10. Title:**  From Flat Earthers to AI: Navigating the Crossroads of Science, Philosophy, and the Future\n",
      "\n",
      "**Description:** This post explores a wide range of topics discussed by the two students, showcasing their intellectual curiosity and engagement with complex ideas.  The post touches on subjects including the limits of reason, AI ethics, philosophy of consciousness, and the nature of reality, providing a glimpse into the ever-evolving world of science and philosophy. \n",
      "\n",
      "**Quotes:**\n",
      "\n",
      "* \"The air was muggy this afternoon. A fine mist of rain floated down, settling on the leaf tips of the brown oak leaves, then dripping off onto the grey concrete of the pavement below. Underneath my feet, the soggy Autumn leaves formed a mush of dirt and water, squelching with every step I took in my brown leather shoes.\"\n",
      "* \"I feel like this is basically the same point as that First Flight poem, like we take the wonder of it all for granted, but a bit less nuanced.\" \n",
      "\n"
     ]
    }
   ],
   "source": [
    "\n",
    "\n",
    "chat_session = model.start_chat(history=[])\n",
    "\n",
    "response = chat_session.send_message([\n",
    "    \"Your task is to analyze the provided conversation and extract the 10 best blog post ideas. \\nFor each idea, you should provide:\\n1. A title\\n2. A brief description (2-3 sentences)\\n3. Two or more relevant quotes from the conversation\\n\\nFocus on topics that are interesting, thought-provoking and original\",\n",
    "    files[0]\n",
    "])\n",
    "\n",
    "print(response.text)"
   ]
  },
  {
   "cell_type": "markdown",
   "metadata": {},
   "source": [
    "## Save"
   ]
  },
  {
   "cell_type": "code",
   "execution_count": 40,
   "metadata": {},
   "outputs": [
    {
     "name": "stdout",
     "output_type": "stream",
     "text": [
      "Response saved to 'response_output.txt'\n"
     ]
    }
   ],
   "source": [
    "import time\n",
    "\n",
    "# Save response text to a file\n",
    "_id = time.time()\n",
    "with open(f\"ideas/{_id}.txt\", \"w\", encoding=\"utf-8\") as file:\n",
    "    file.write(response.text)\n",
    "\n",
    "print(\"Response saved to 'response_output.txt'\")"
   ]
  },
  {
   "cell_type": "code",
   "execution_count": 41,
   "metadata": {},
   "outputs": [
    {
     "name": "stdout",
     "output_type": "stream",
     "text": [
      "Response and chat history saved to 'chat_output.json'\n"
     ]
    }
   ],
   "source": [
    "import json\n",
    "\n",
    "# Prepare data for JSON\n",
    "data = {\n",
    "    \"final_response\": response.text,\n",
    "    \"chat_history\": [\n",
    "        {\n",
    "            \"role\": entry.role,\n",
    "            \"parts\": [str(part) for part in entry.parts]\n",
    "        }\n",
    "        for entry in chat_session.history\n",
    "    ]\n",
    "}\n",
    "\n",
    "# Save data to a JSON file\n",
    "with open(f\"ideas/{_id}chat_history.json\", \"w\", encoding=\"utf-8\") as file:\n",
    "    json.dump(data, file, ensure_ascii=False, indent=2)\n",
    "\n",
    "print(\"Response and chat history saved to 'chat_output.json'\")"
   ]
  }
 ],
 "metadata": {
  "kernelspec": {
   "display_name": "Python 3",
   "language": "python",
   "name": "python3"
  },
  "language_info": {
   "codemirror_mode": {
    "name": "ipython",
    "version": 3
   },
   "file_extension": ".py",
   "mimetype": "text/x-python",
   "name": "python",
   "nbconvert_exporter": "python",
   "pygments_lexer": "ipython3",
   "version": "3.10.12"
  }
 },
 "nbformat": 4,
 "nbformat_minor": 2
}
